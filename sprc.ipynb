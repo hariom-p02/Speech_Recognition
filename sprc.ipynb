{
 "cells": [
  {
   "cell_type": "code",
   "execution_count": 2,
   "id": "cee59a80-bf42-4fc7-a3d6-6317fb6fccb2",
   "metadata": {},
   "outputs": [
    {
     "name": "stdout",
     "output_type": "stream",
     "text": [
      "Requirement already satisfied: SpeechRecognition in c:\\users\\hp\\anaconda3\\lib\\site-packages (3.10.4)\n",
      "Requirement already satisfied: requests>=2.26.0 in c:\\users\\hp\\anaconda3\\lib\\site-packages (from SpeechRecognition) (2.31.0)\n",
      "Requirement already satisfied: typing-extensions in c:\\users\\hp\\anaconda3\\lib\\site-packages (from SpeechRecognition) (4.9.0)\n",
      "Requirement already satisfied: charset-normalizer<4,>=2 in c:\\users\\hp\\anaconda3\\lib\\site-packages (from requests>=2.26.0->SpeechRecognition) (2.0.4)\n",
      "Requirement already satisfied: idna<4,>=2.5 in c:\\users\\hp\\anaconda3\\lib\\site-packages (from requests>=2.26.0->SpeechRecognition) (3.4)\n",
      "Requirement already satisfied: urllib3<3,>=1.21.1 in c:\\users\\hp\\anaconda3\\lib\\site-packages (from requests>=2.26.0->SpeechRecognition) (2.0.7)\n",
      "Requirement already satisfied: certifi>=2017.4.17 in c:\\users\\hp\\anaconda3\\lib\\site-packages (from requests>=2.26.0->SpeechRecognition) (2024.2.2)\n"
     ]
    }
   ],
   "source": [
    "! pip install SpeechRecognition"
   ]
  },
  {
   "cell_type": "code",
   "execution_count": 3,
   "id": "6a8b2513-0f32-4d4d-8ec6-c3ac45769954",
   "metadata": {},
   "outputs": [
    {
     "name": "stdout",
     "output_type": "stream",
     "text": [
      "Requirement already satisfied: pyaudio in c:\\users\\hp\\anaconda3\\lib\\site-packages (0.2.14)\n"
     ]
    }
   ],
   "source": [
    "! pip install pyaudio"
   ]
  },
  {
   "cell_type": "code",
   "execution_count": 4,
   "id": "48fd156f-95ad-43be-9dac-db4ac4b322f1",
   "metadata": {},
   "outputs": [
    {
     "name": "stdout",
     "output_type": "stream",
     "text": [
      "Requirement already satisfied: psutil in c:\\users\\hp\\anaconda3\\lib\\site-packages (5.9.0)\n"
     ]
    }
   ],
   "source": [
    "! pip install psutil"
   ]
  },
  {
   "cell_type": "code",
   "execution_count": 5,
   "id": "1ceb8989-5734-4224-ac31-a30c875439f3",
   "metadata": {},
   "outputs": [
    {
     "name": "stdout",
     "output_type": "stream",
     "text": [
      "Requirement already satisfied: pyjokes in c:\\users\\hp\\anaconda3\\lib\\site-packages (0.6.0)\n"
     ]
    }
   ],
   "source": [
    "! pip install pyjokes "
   ]
  },
  {
   "cell_type": "code",
   "execution_count": 6,
   "id": "f12d5eed-08c6-4071-8765-d1a1449011b1",
   "metadata": {},
   "outputs": [],
   "source": [
    "import pyttsx3\n",
    "import datetime\n",
    "import speech_recognition as sr\n",
    "import pyaudio\n",
    "import psutil\n",
    "import webbrowser as wb\n",
    "import pyjokes "
   ]
  },
  {
   "cell_type": "code",
   "execution_count": 7,
   "id": "8d631a63-a57a-4512-ac99-4895d19bc871",
   "metadata": {},
   "outputs": [],
   "source": [
    "engine = pyttsx3.init()"
   ]
  },
  {
   "cell_type": "code",
   "execution_count": 8,
   "id": "76ddf060-35b2-4c34-86a7-ad0c135af95d",
   "metadata": {},
   "outputs": [],
   "source": [
    "engine.say('Hello Everyone')\n",
    "engine.runAndWait()"
   ]
  },
  {
   "cell_type": "code",
   "execution_count": 9,
   "id": "a5f7db42-a052-479c-ac64-44e22ecc31d5",
   "metadata": {},
   "outputs": [],
   "source": [
    "engine = pyttsx3.init()\n",
    "\n",
    "def speak(audio):\n",
    "    engine.say(audio)\n",
    "    engine.runAndWait()\n",
    "\n",
    "def time_():\n",
    "    Time = datetime.datetime.now().strftime(\"%H:%M:%S\")\n",
    "    speak(\"The current time is\")\n",
    "    speak(Time)\n",
    "def date_():\n",
    "    year= datetime.datetime.now().year\n",
    "    month= datetime.datetime.now().month\n",
    "    date= datetime.datetime.now().day\n",
    "    speak(\" The current date is\")\n",
    "    speak(date)\n",
    "    speak(month)\n",
    "    speak(year)\n",
    "\n",
    "def wishMe():\n",
    "    speak(\"next step at your service , welcome sir \")\n",
    "    time_()\n",
    "    date_()\n",
    "\n",
    "    hour = datetime.datetime.now().hour\n",
    "\n",
    "    if hour >= 6 and hour <=12:\n",
    "        speak(\"good morning sir\")\n",
    "    elif hour > 12 and hour<= 18 :\n",
    "        speak(\"good afternoon sir \")\n",
    "    elif hour >18 and hour <=24 :\n",
    "        speak(\"good evening sir \")\n",
    "    else:\n",
    "        speak(\"good night sir \")\n",
    "    \n",
    "    speak(\"how can i help you sir \")\n",
    "\n",
    "def TakeCommand():\n",
    "    r = sr.Recognizer()\n",
    "    with sr.Microphone() as source:\n",
    "        print('Listening')\n",
    "        r.pause_threshold = 1\n",
    "        audio = r.listen(source)\n",
    "    try :\n",
    "        print('Recognizing')\n",
    "        query = r.recognize_google(audio,language='en-us')\n",
    "        print(\"query\")\n",
    "    except Exception as e :\n",
    "        print(e)\n",
    "        print(\"say it again please\")\n",
    "        return \"none\"\n",
    "    return query \n",
    "\n",
    "def cpu():\n",
    "    usage = str(psutil.cpu_percent())\n",
    "    speak('CPU is at '+usage)\n",
    "\n",
    "    battery = psutil.sensors_battery()\n",
    "    speak('battery is at')\n",
    "    speak(battery.percent)\n",
    "\n",
    "def search_youtube():\n",
    "    search_term = TakeCommand.lower()\n",
    "    speak(\"here we go to youtube\")\n",
    "    wb.open(\"https://www.youtube.com/results?search_query=\" + search_term)\n",
    "\n",
    "def search_google():\n",
    "    search_term = TakeCommand().lower()\n",
    "    speak(\"here we got the google for your search\")\n",
    "    wb.open(\"https://www.google.com/search?q= \"+search_term)\n",
    "          \n",
    "def joke_():\n",
    "    speak(pyjokes.get_joke())\n",
    "    \n",
    "    \n",
    "    \n",
    "\n",
    "\n",
    "\n"
   ]
  },
  {
   "cell_type": "code",
   "execution_count": 11,
   "id": "ddbd7081-4baf-4c08-a072-13a6a7f63f65",
   "metadata": {},
   "outputs": [],
   "source": [
    "speak(\"Hello Everyone welcome to my Linkedin profile\")"
   ]
  },
  {
   "cell_type": "code",
   "execution_count": 12,
   "id": "bb452e31-8357-4c38-b0f2-f94e4cda9cc7",
   "metadata": {},
   "outputs": [],
   "source": [
    "time_()"
   ]
  },
  {
   "cell_type": "code",
   "execution_count": 13,
   "id": "9180ed5e-df3e-41eb-bf3d-9a49a47bfca9",
   "metadata": {},
   "outputs": [],
   "source": [
    "date_()"
   ]
  },
  {
   "cell_type": "code",
   "execution_count": 14,
   "id": "234e64c5-d3af-4812-8a2a-2caa37c45137",
   "metadata": {},
   "outputs": [],
   "source": [
    "wishMe()"
   ]
  },
  {
   "cell_type": "code",
   "execution_count": 13,
   "id": "487b94dc-2378-4a81-b7f1-f22e7aaa9d47",
   "metadata": {},
   "outputs": [
    {
     "name": "stdout",
     "output_type": "stream",
     "text": [
      "Listening\n",
      "Recognizing\n",
      "\n",
      "say it again please\n"
     ]
    },
    {
     "data": {
      "text/plain": [
       "'none'"
      ]
     },
     "execution_count": 13,
     "metadata": {},
     "output_type": "execute_result"
    }
   ],
   "source": [
    "TakeCommand()"
   ]
  },
  {
   "cell_type": "code",
   "execution_count": 14,
   "id": "e5be9611-7a6d-44ce-8907-d97091386ec8",
   "metadata": {},
   "outputs": [
    {
     "name": "stdout",
     "output_type": "stream",
     "text": [
      "Listening\n",
      "Recognizing\n",
      "query\n",
      "Listening\n",
      "Recognizing\n",
      "query\n",
      "Listening\n",
      "Recognizing\n",
      "query\n"
     ]
    }
   ],
   "source": [
    "if __name__==\"__main__\" :\n",
    "    wishMe()\n",
    "\n",
    "    while True:\n",
    "        query = TakeCommand().lower()\n",
    "        if 'time' in query :\n",
    "            time_()\n",
    "        elif 'date' in query :\n",
    "            date_()\n",
    "        elif 'cpu' in query:\n",
    "            cpu()\n",
    "        elif 'go offline' in query :\n",
    "            speak(\"next step service is going offline\")\n",
    "            break\n",
    "        elif 'search youtube' in query :\n",
    "            speak('what should i search for ')\n",
    "            search_youtube()\n",
    "\n",
    "        elif 'search google ' in query :\n",
    "            speak (\"what should i searh for \")\n",
    "            search_google()\n",
    "\n",
    "        elif \"joke\" in query:\n",
    "            joke_()\n",
    "            \n",
    "\n",
    "  \n",
    "        "
   ]
  },
  {
   "cell_type": "code",
   "execution_count": null,
   "id": "a90650e2-5e4a-446a-84e5-25000927c11f",
   "metadata": {},
   "outputs": [],
   "source": []
  },
  {
   "cell_type": "code",
   "execution_count": null,
   "id": "10985881-4f6c-4aeb-be6d-64fd305e4058",
   "metadata": {},
   "outputs": [],
   "source": []
  }
 ],
 "metadata": {
  "kernelspec": {
   "display_name": "Python 3 (ipykernel)",
   "language": "python",
   "name": "python3"
  },
  "language_info": {
   "codemirror_mode": {
    "name": "ipython",
    "version": 3
   },
   "file_extension": ".py",
   "mimetype": "text/x-python",
   "name": "python",
   "nbconvert_exporter": "python",
   "pygments_lexer": "ipython3",
   "version": "3.11.7"
  }
 },
 "nbformat": 4,
 "nbformat_minor": 5
}
